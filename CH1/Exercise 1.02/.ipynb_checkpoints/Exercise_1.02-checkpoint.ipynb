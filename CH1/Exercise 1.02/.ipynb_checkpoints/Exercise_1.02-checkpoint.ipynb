{
 "cells": [
  {
   "cell_type": "markdown",
   "metadata": {},
   "source": [
    "# Chapter 1: Introduction to Clustering\n",
    "\n",
    "## Exercise 1.02"
   ]
  },
  {
   "cell_type": "code",
   "execution_count": 6,
   "metadata": {},
   "outputs": [],
   "source": [
    "# Import the necessary libraries\n",
    "import math\n",
    "import numpy as np"
   ]
  },
  {
   "cell_type": "code",
   "execution_count": 7,
   "metadata": {},
   "outputs": [],
   "source": [
    "# Euclidean Distance function\n",
    "def dist(a, b):\n",
    "    return math.sqrt(math.pow(a[0]-b[0],2) + math.pow(a[1]-b[1],2))"
   ]
  },
  {
   "cell_type": "code",
   "execution_count": 8,
   "metadata": {},
   "outputs": [],
   "source": [
    "centroids = [ (2, 5), (8, 3), (4,5) ]\n",
    "x = (0, 8)"
   ]
  },
  {
   "cell_type": "code",
   "execution_count": 9,
   "metadata": {},
   "outputs": [
    {
     "name": "stdout",
     "output_type": "stream",
     "text": [
      "Euclidean Distance between x (0, 8) and centroid (2, 5) is 3.605551275463989\n",
      "Euclidean Distance between x (0, 8) and centroid (8, 3) is 9.433981132056603\n",
      "Euclidean Distance between x (0, 8) and centroid (4, 5) is 5.0\n"
     ]
    }
   ],
   "source": [
    "# Calculating Euclidean Distance between x and centroid\n",
    "centroid_distances =[]\n",
    "for centroid in centroids:\n",
    "    print(\"Euclidean Distance between x {} and centroid {} is {}\".format(x ,centroid, dist(x,centroid)))\n",
    "    centroid_distances.append(dist(x,centroid))"
   ]
  },
  {
   "cell_type": "code",
   "execution_count": 10,
   "metadata": {},
   "outputs": [
    {
     "name": "stdout",
     "output_type": "stream",
     "text": [
      "Nearest centroid (2, 5)\n"
     ]
    }
   ],
   "source": [
    "min_distance_index = np.argmin(centroid_distances)\n",
    "print(\"Nearest centroid {}\".format(centroids[min_distance_index]))"
   ]
  }
 ],
 "metadata": {
  "kernelspec": {
   "display_name": "Python 3",
   "language": "python",
   "name": "python3"
  },
  "language_info": {
   "codemirror_mode": {
    "name": "ipython",
    "version": 3
   },
   "file_extension": ".py",
   "mimetype": "text/x-python",
   "name": "python",
   "nbconvert_exporter": "python",
   "pygments_lexer": "ipython3",
   "version": "3.6.3"
  }
 },
 "nbformat": 4,
 "nbformat_minor": 2
}
